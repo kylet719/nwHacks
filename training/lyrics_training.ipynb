{
 "cells": [
  {
   "cell_type": "code",
   "execution_count": 23,
   "metadata": {},
   "outputs": [],
   "source": [
    "import pandas as pd\n",
    "import re\n",
    "import nltk\n",
    "from nltk.corpus import stopwords\n",
    "from nltk import pos_tag"
   ]
  },
  {
   "cell_type": "code",
   "execution_count": 17,
   "metadata": {},
   "outputs": [],
   "source": [
    "def parse_musixmatch(path):\n",
    "    d = {\n",
    "        'track_id': [],\n",
    "        'word_counts': []\n",
    "        }\n",
    "\n",
    "    with open(path, 'r', encoding='utf-8') as file:\n",
    "        top_words = None\n",
    "\n",
    "        # line_count = 0\n",
    "        for line in file:\n",
    "            # if line_count >= 25:\n",
    "            #     break\n",
    "            # line_count += 1\n",
    "\n",
    "            line = line.strip()\n",
    "\n",
    "            if line.startswith('#'):\n",
    "                continue\n",
    "\n",
    "            elif line.startswith('%'):\n",
    "                top_words = line[1:].split(',')\n",
    "                continue\n",
    "            else:\n",
    "                parts = line.split(',')\n",
    "                track_id = parts[0]\n",
    "                \n",
    "                word_counts = {}\n",
    "                for part in parts[2:]:\n",
    "                    match = re.match(r'(\\d+):(\\d+)', part)\n",
    "                    if match:\n",
    "                        word = top_words[int(match.group(1)) - 1]\n",
    "                        count = int(match.group(2))\n",
    "                        word_counts[word] = count\n",
    "\n",
    "                d['track_id'].append(track_id)\n",
    "                d['word_counts'].append(word_counts)\n",
    "\n",
    "    df = pd.DataFrame(d)\n",
    "    return df"
   ]
  },
  {
   "cell_type": "code",
   "execution_count": 20,
   "metadata": {},
   "outputs": [
    {
     "data": {
      "text/plain": [
       "(210519, 2)"
      ]
     },
     "execution_count": 20,
     "metadata": {},
     "output_type": "execute_result"
    }
   ],
   "source": [
    "dataset_path = 'data/mxm_dataset_train.txt'\n",
    "df = parse_musixmatch(dataset_path)"
   ]
  },
  {
   "cell_type": "code",
   "execution_count": 22,
   "metadata": {},
   "outputs": [
    {
     "data": {
      "text/html": [
       "<div>\n",
       "<style scoped>\n",
       "    .dataframe tbody tr th:only-of-type {\n",
       "        vertical-align: middle;\n",
       "    }\n",
       "\n",
       "    .dataframe tbody tr th {\n",
       "        vertical-align: top;\n",
       "    }\n",
       "\n",
       "    .dataframe thead th {\n",
       "        text-align: right;\n",
       "    }\n",
       "</style>\n",
       "<table border=\"1\" class=\"dataframe\">\n",
       "  <thead>\n",
       "    <tr style=\"text-align: right;\">\n",
       "      <th></th>\n",
       "      <th>track_id</th>\n",
       "      <th>word_counts</th>\n",
       "    </tr>\n",
       "  </thead>\n",
       "  <tbody>\n",
       "    <tr>\n",
       "      <th>0</th>\n",
       "      <td>TRAAAAV128F421A322</td>\n",
       "      <td>{'i': 6, 'the': 4, 'you': 2, 'to': 2, 'and': 5...</td>\n",
       "    </tr>\n",
       "    <tr>\n",
       "      <th>1</th>\n",
       "      <td>TRAAABD128F429CF47</td>\n",
       "      <td>{'i': 10, 'you': 17, 'to': 8, 'and': 2, 'a': 2...</td>\n",
       "    </tr>\n",
       "    <tr>\n",
       "      <th>2</th>\n",
       "      <td>TRAAAED128E0783FAB</td>\n",
       "      <td>{'i': 28, 'the': 15, 'you': 2, 'to': 12, 'and'...</td>\n",
       "    </tr>\n",
       "    <tr>\n",
       "      <th>3</th>\n",
       "      <td>TRAAAEF128F4273421</td>\n",
       "      <td>{'i': 5, 'the': 4, 'you': 3, 'to': 2, 'and': 1...</td>\n",
       "    </tr>\n",
       "    <tr>\n",
       "      <th>4</th>\n",
       "      <td>TRAAAEW128F42930C0</td>\n",
       "      <td>{'i': 4, 'to': 5, 'and': 7, 'a': 2, 'me': 4, '...</td>\n",
       "    </tr>\n",
       "  </tbody>\n",
       "</table>\n",
       "</div>"
      ],
      "text/plain": [
       "             track_id                                        word_counts\n",
       "0  TRAAAAV128F421A322  {'i': 6, 'the': 4, 'you': 2, 'to': 2, 'and': 5...\n",
       "1  TRAAABD128F429CF47  {'i': 10, 'you': 17, 'to': 8, 'and': 2, 'a': 2...\n",
       "2  TRAAAED128E0783FAB  {'i': 28, 'the': 15, 'you': 2, 'to': 12, 'and'...\n",
       "3  TRAAAEF128F4273421  {'i': 5, 'the': 4, 'you': 3, 'to': 2, 'and': 1...\n",
       "4  TRAAAEW128F42930C0  {'i': 4, 'to': 5, 'and': 7, 'a': 2, 'me': 4, '..."
      ]
     },
     "execution_count": 22,
     "metadata": {},
     "output_type": "execute_result"
    }
   ],
   "source": [
    "df.head()"
   ]
  },
  {
   "cell_type": "code",
   "execution_count": 24,
   "metadata": {},
   "outputs": [
    {
     "name": "stderr",
     "output_type": "stream",
     "text": [
      "[nltk_data] Downloading package punkt to /Users/mfardin/nltk_data...\n",
      "[nltk_data]   Unzipping tokenizers/punkt.zip.\n",
      "[nltk_data] Downloading package stopwords to\n",
      "[nltk_data]     /Users/mfardin/nltk_data...\n",
      "[nltk_data]   Unzipping corpora/stopwords.zip.\n",
      "[nltk_data] Downloading package averaged_perceptron_tagger to\n",
      "[nltk_data]     /Users/mfardin/nltk_data...\n",
      "[nltk_data]   Unzipping taggers/averaged_perceptron_tagger.zip.\n"
     ]
    },
    {
     "data": {
      "text/plain": [
       "True"
      ]
     },
     "execution_count": 24,
     "metadata": {},
     "output_type": "execute_result"
    }
   ],
   "source": [
    "nltk.download('punkt')\n",
    "nltk.download('stopwords')\n",
    "nltk.download('averaged_perceptron_tagger')"
   ]
  },
  {
   "cell_type": "code",
   "execution_count": null,
   "metadata": {},
   "outputs": [],
   "source": [
    "def filter_stop_"
   ]
  }
 ],
 "metadata": {
  "kernelspec": {
   "display_name": "Python 3",
   "language": "python",
   "name": "python3"
  },
  "language_info": {
   "codemirror_mode": {
    "name": "ipython",
    "version": 3
   },
   "file_extension": ".py",
   "mimetype": "text/x-python",
   "name": "python",
   "nbconvert_exporter": "python",
   "pygments_lexer": "ipython3",
   "version": "3.12.8"
  }
 },
 "nbformat": 4,
 "nbformat_minor": 2
}
