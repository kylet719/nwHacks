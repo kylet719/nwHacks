{
 "cells": [
  {
   "cell_type": "code",
   "execution_count": 33,
   "metadata": {},
   "outputs": [],
   "source": [
    "import pandas as pd\n",
    "import numpy as np\n",
    "import tensorflow as tf\n",
    "from tensorflow.keras.models import Sequential\n",
    "from tensorflow.keras.layers import Dense, Input\n",
    "from tensorflow.keras.optimizers import Adam\n",
    "from sklearn.feature_extraction.text import TfidfVectorizer\n",
    "from sklearn.model_selection import train_test_split"
   ]
  },
  {
   "cell_type": "code",
   "execution_count": 45,
   "metadata": {},
   "outputs": [],
   "source": [
    "data_path = 'data/training_data_full.csv'\n",
    "model_path = 'data/emotion_recognition_model.keras'"
   ]
  },
  {
   "cell_type": "code",
   "execution_count": 35,
   "metadata": {},
   "outputs": [
    {
     "data": {
      "text/html": [
       "<div>\n",
       "<style scoped>\n",
       "    .dataframe tbody tr th:only-of-type {\n",
       "        vertical-align: middle;\n",
       "    }\n",
       "\n",
       "    .dataframe tbody tr th {\n",
       "        vertical-align: top;\n",
       "    }\n",
       "\n",
       "    .dataframe thead th {\n",
       "        text-align: right;\n",
       "    }\n",
       "</style>\n",
       "<table border=\"1\" class=\"dataframe\">\n",
       "  <thead>\n",
       "    <tr style=\"text-align: right;\">\n",
       "      <th></th>\n",
       "      <th>track_id</th>\n",
       "      <th>word_counts</th>\n",
       "      <th>emotion_freqs</th>\n",
       "    </tr>\n",
       "  </thead>\n",
       "  <tbody>\n",
       "    <tr>\n",
       "      <th>0</th>\n",
       "      <td>TRAAAAV128F421A322</td>\n",
       "      <td>{'like': 2, 'de': 1, 'got': 1, 'would': 1, 'se...</td>\n",
       "      <td>{'angry': 0.05, 'disgust': 0.15, 'fear': 0.15,...</td>\n",
       "    </tr>\n",
       "    <tr>\n",
       "      <th>1</th>\n",
       "      <td>TRAAABD128F429CF47</td>\n",
       "      <td>{'know': 5, 'time': 3, 'la': 7, 'get': 2, 'got...</td>\n",
       "      <td>{'angry': 0.0, 'disgust': 0.0, 'fear': 0.0, 'h...</td>\n",
       "    </tr>\n",
       "    <tr>\n",
       "      <th>2</th>\n",
       "      <td>TRAAAED128E0783FAB</td>\n",
       "      <td>{'love': 11, 'like': 1, 'time': 6, 'come': 4, ...</td>\n",
       "      <td>{'angry': 0.0, 'disgust': 0.0, 'fear': 0.02941...</td>\n",
       "    </tr>\n",
       "    <tr>\n",
       "      <th>3</th>\n",
       "      <td>TRAAAEF128F4273421</td>\n",
       "      <td>{'know': 1, 'got': 3, 'feel': 1, 'let': 1, 'wo...</td>\n",
       "      <td>{'angry': 0.07142857142857142, 'disgust': 0.07...</td>\n",
       "    </tr>\n",
       "    <tr>\n",
       "      <th>4</th>\n",
       "      <td>TRAAAEW128F42930C0</td>\n",
       "      <td>{'like': 1, 'take': 1, 'would': 1, 'wo': 1, 's...</td>\n",
       "      <td>{'angry': 0.125, 'disgust': 0.5, 'fear': 0.125...</td>\n",
       "    </tr>\n",
       "    <tr>\n",
       "      <th>...</th>\n",
       "      <td>...</td>\n",
       "      <td>...</td>\n",
       "      <td>...</td>\n",
       "    </tr>\n",
       "    <tr>\n",
       "      <th>189030</th>\n",
       "      <td>TRZZZUK128F92E3C60</td>\n",
       "      <td>{'love': 2, 'see': 2, 'heart': 2, 'think': 1, ...</td>\n",
       "      <td>{'angry': 0.0, 'disgust': 0.0, 'fear': 0.0, 'h...</td>\n",
       "    </tr>\n",
       "    <tr>\n",
       "      <th>189031</th>\n",
       "      <td>TRZZZXA128F428ED56</td>\n",
       "      <td>{'time': 1, 'la': 1, 'get': 1, 'eye': 1, 'thin...</td>\n",
       "      <td>{'angry': 0.14705882352941177, 'disgust': 0.14...</td>\n",
       "    </tr>\n",
       "    <tr>\n",
       "      <th>189032</th>\n",
       "      <td>TRZZZXV128F4289747</td>\n",
       "      <td>{'know': 1, 'like': 3, 'time': 1, 'get': 3, 'n...</td>\n",
       "      <td>{'angry': 0.6923076923076923, 'disgust': 0.076...</td>\n",
       "    </tr>\n",
       "    <tr>\n",
       "      <th>189033</th>\n",
       "      <td>TRZZZYV128F92E996D</td>\n",
       "      <td>{'get': 21, 'got': 3, 'let': 6, 'would': 2, 'a...</td>\n",
       "      <td>{'angry': 0.2624113475177305, 'disgust': 0.234...</td>\n",
       "    </tr>\n",
       "    <tr>\n",
       "      <th>189034</th>\n",
       "      <td>TRZZZYX128F92D32C6</td>\n",
       "      <td>{'know': 2, 'time': 3, 'go': 7, 'get': 8, 'let...</td>\n",
       "      <td>{'angry': 0.06818181818181818, 'disgust': 0.06...</td>\n",
       "    </tr>\n",
       "  </tbody>\n",
       "</table>\n",
       "<p>189035 rows × 3 columns</p>\n",
       "</div>"
      ],
      "text/plain": [
       "                  track_id                                        word_counts  \\\n",
       "0       TRAAAAV128F421A322  {'like': 2, 'de': 1, 'got': 1, 'would': 1, 'se...   \n",
       "1       TRAAABD128F429CF47  {'know': 5, 'time': 3, 'la': 7, 'get': 2, 'got...   \n",
       "2       TRAAAED128E0783FAB  {'love': 11, 'like': 1, 'time': 6, 'come': 4, ...   \n",
       "3       TRAAAEF128F4273421  {'know': 1, 'got': 3, 'feel': 1, 'let': 1, 'wo...   \n",
       "4       TRAAAEW128F42930C0  {'like': 1, 'take': 1, 'would': 1, 'wo': 1, 's...   \n",
       "...                    ...                                                ...   \n",
       "189030  TRZZZUK128F92E3C60  {'love': 2, 'see': 2, 'heart': 2, 'think': 1, ...   \n",
       "189031  TRZZZXA128F428ED56  {'time': 1, 'la': 1, 'get': 1, 'eye': 1, 'thin...   \n",
       "189032  TRZZZXV128F4289747  {'know': 1, 'like': 3, 'time': 1, 'get': 3, 'n...   \n",
       "189033  TRZZZYV128F92E996D  {'get': 21, 'got': 3, 'let': 6, 'would': 2, 'a...   \n",
       "189034  TRZZZYX128F92D32C6  {'know': 2, 'time': 3, 'go': 7, 'get': 8, 'let...   \n",
       "\n",
       "                                            emotion_freqs  \n",
       "0       {'angry': 0.05, 'disgust': 0.15, 'fear': 0.15,...  \n",
       "1       {'angry': 0.0, 'disgust': 0.0, 'fear': 0.0, 'h...  \n",
       "2       {'angry': 0.0, 'disgust': 0.0, 'fear': 0.02941...  \n",
       "3       {'angry': 0.07142857142857142, 'disgust': 0.07...  \n",
       "4       {'angry': 0.125, 'disgust': 0.5, 'fear': 0.125...  \n",
       "...                                                   ...  \n",
       "189030  {'angry': 0.0, 'disgust': 0.0, 'fear': 0.0, 'h...  \n",
       "189031  {'angry': 0.14705882352941177, 'disgust': 0.14...  \n",
       "189032  {'angry': 0.6923076923076923, 'disgust': 0.076...  \n",
       "189033  {'angry': 0.2624113475177305, 'disgust': 0.234...  \n",
       "189034  {'angry': 0.06818181818181818, 'disgust': 0.06...  \n",
       "\n",
       "[189035 rows x 3 columns]"
      ]
     },
     "execution_count": 35,
     "metadata": {},
     "output_type": "execute_result"
    }
   ],
   "source": [
    "df = pd.read_csv(data_path, header=0)\n",
    "df['word_counts'] = df['word_counts'].apply(lambda x: eval(x))\n",
    "df['emotion_freqs'] = df['emotion_freqs'].apply(lambda x: eval(x))\n",
    "df"
   ]
  },
  {
   "cell_type": "code",
   "execution_count": 36,
   "metadata": {},
   "outputs": [],
   "source": [
    "vectorizer = TfidfVectorizer()\n",
    "\n",
    "X = vectorizer.fit_transform(df['word_counts'].apply(str))\n",
    "y = np.array([list(emotion.values()) for emotion in df['emotion_freqs']])"
   ]
  },
  {
   "cell_type": "code",
   "execution_count": 37,
   "metadata": {},
   "outputs": [],
   "source": [
    "X_train, X_test, y_train, y_test = train_test_split(X, y, test_size=0.2, random_state=42)"
   ]
  },
  {
   "cell_type": "code",
   "execution_count": 38,
   "metadata": {},
   "outputs": [],
   "source": [
    "model = Sequential([\n",
    "    Input(shape=(X_train.shape[1],)),\n",
    "    Dense(128, activation='relu'),\n",
    "    Dense(64, activation='relu'),\n",
    "    Dense(7, activation='sigmoid')\n",
    "])"
   ]
  },
  {
   "cell_type": "code",
   "execution_count": 39,
   "metadata": {},
   "outputs": [],
   "source": [
    "model.compile(optimizer=Adam(), loss='mean_squared_error', metrics=['mae'])"
   ]
  },
  {
   "cell_type": "code",
   "execution_count": 40,
   "metadata": {},
   "outputs": [
    {
     "name": "stdout",
     "output_type": "stream",
     "text": [
      "Epoch 1/10\n",
      "\u001b[1m4726/4726\u001b[0m \u001b[32m━━━━━━━━━━━━━━━━━━━━\u001b[0m\u001b[37m\u001b[0m \u001b[1m13s\u001b[0m 3ms/step - loss: 0.0134 - mae: 0.0741 - val_loss: 0.0037 - val_mae: 0.0388\n",
      "Epoch 2/10\n",
      "\u001b[1m4726/4726\u001b[0m \u001b[32m━━━━━━━━━━━━━━━━━━━━\u001b[0m\u001b[37m\u001b[0m \u001b[1m13s\u001b[0m 3ms/step - loss: 0.0032 - mae: 0.0365 - val_loss: 0.0032 - val_mae: 0.0344\n",
      "Epoch 3/10\n",
      "\u001b[1m4726/4726\u001b[0m \u001b[32m━━━━━━━━━━━━━━━━━━━━\u001b[0m\u001b[37m\u001b[0m \u001b[1m13s\u001b[0m 3ms/step - loss: 0.0026 - mae: 0.0321 - val_loss: 0.0031 - val_mae: 0.0342\n",
      "Epoch 4/10\n",
      "\u001b[1m4726/4726\u001b[0m \u001b[32m━━━━━━━━━━━━━━━━━━━━\u001b[0m\u001b[37m\u001b[0m \u001b[1m13s\u001b[0m 3ms/step - loss: 0.0023 - mae: 0.0299 - val_loss: 0.0030 - val_mae: 0.0329\n",
      "Epoch 5/10\n",
      "\u001b[1m4726/4726\u001b[0m \u001b[32m━━━━━━━━━━━━━━━━━━━━\u001b[0m\u001b[37m\u001b[0m \u001b[1m13s\u001b[0m 3ms/step - loss: 0.0021 - mae: 0.0284 - val_loss: 0.0030 - val_mae: 0.0326\n",
      "Epoch 6/10\n",
      "\u001b[1m4726/4726\u001b[0m \u001b[32m━━━━━━━━━━━━━━━━━━━━\u001b[0m\u001b[37m\u001b[0m \u001b[1m13s\u001b[0m 3ms/step - loss: 0.0018 - mae: 0.0270 - val_loss: 0.0031 - val_mae: 0.0331\n",
      "Epoch 7/10\n",
      "\u001b[1m4726/4726\u001b[0m \u001b[32m━━━━━━━━━━━━━━━━━━━━\u001b[0m\u001b[37m\u001b[0m \u001b[1m13s\u001b[0m 3ms/step - loss: 0.0017 - mae: 0.0260 - val_loss: 0.0031 - val_mae: 0.0331\n",
      "Epoch 8/10\n",
      "\u001b[1m4726/4726\u001b[0m \u001b[32m━━━━━━━━━━━━━━━━━━━━\u001b[0m\u001b[37m\u001b[0m \u001b[1m14s\u001b[0m 3ms/step - loss: 0.0016 - mae: 0.0250 - val_loss: 0.0033 - val_mae: 0.0336\n",
      "Epoch 9/10\n",
      "\u001b[1m4726/4726\u001b[0m \u001b[32m━━━━━━━━━━━━━━━━━━━━\u001b[0m\u001b[37m\u001b[0m \u001b[1m13s\u001b[0m 3ms/step - loss: 0.0015 - mae: 0.0243 - val_loss: 0.0032 - val_mae: 0.0337\n",
      "Epoch 10/10\n",
      "\u001b[1m4726/4726\u001b[0m \u001b[32m━━━━━━━━━━━━━━━━━━━━\u001b[0m\u001b[37m\u001b[0m \u001b[1m13s\u001b[0m 3ms/step - loss: 0.0014 - mae: 0.0237 - val_loss: 0.0033 - val_mae: 0.0339\n"
     ]
    },
    {
     "data": {
      "text/plain": [
       "<keras.src.callbacks.history.History at 0x1f05252a250>"
      ]
     },
     "execution_count": 40,
     "metadata": {},
     "output_type": "execute_result"
    }
   ],
   "source": [
    "model.fit(X_train, y_train, epochs=10, batch_size=32, validation_data=(X_test, y_test))"
   ]
  },
  {
   "cell_type": "code",
   "execution_count": 41,
   "metadata": {},
   "outputs": [
    {
     "name": "stdout",
     "output_type": "stream",
     "text": [
      "\u001b[1m1182/1182\u001b[0m \u001b[32m━━━━━━━━━━━━━━━━━━━━\u001b[0m\u001b[37m\u001b[0m \u001b[1m1s\u001b[0m 1ms/step - loss: 0.0033 - mae: 0.0337\n"
     ]
    },
    {
     "data": {
      "text/plain": [
       "0.033932626247406006"
      ]
     },
     "execution_count": 41,
     "metadata": {},
     "output_type": "execute_result"
    }
   ],
   "source": [
    "loss, mae = model.evaluate(X_test, y_test)\n",
    "mae"
   ]
  },
  {
   "cell_type": "code",
   "execution_count": 46,
   "metadata": {},
   "outputs": [],
   "source": [
    "model.save(model_path)"
   ]
  }
 ],
 "metadata": {
  "kernelspec": {
   "display_name": ".venv",
   "language": "python",
   "name": "python3"
  },
  "language_info": {
   "codemirror_mode": {
    "name": "ipython",
    "version": 3
   },
   "file_extension": ".py",
   "mimetype": "text/x-python",
   "name": "python",
   "nbconvert_exporter": "python",
   "pygments_lexer": "ipython3",
   "version": "3.9.13"
  }
 },
 "nbformat": 4,
 "nbformat_minor": 2
}
